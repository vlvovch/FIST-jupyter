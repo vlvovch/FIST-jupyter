{
 "cells": [
  {
   "cell_type": "markdown",
   "metadata": {},
   "source": [
    "Load Thermal-FIST library and common headers"
   ]
  },
  {
   "cell_type": "code",
   "execution_count": 1,
   "metadata": {},
   "outputs": [
    {
     "name": "stdout",
     "output_type": "stream",
     "text": [
      "###############################################################################\n",
      "#                                                                             #\n",
      "# This is Thermal-FIST version 1.2.1                                          #\n",
      "#                                                                             #\n",
      "# Copyright (c) 2019 Volodymyr Vovchenko <vovchenko@fias.uni-frankfurt.de>    #\n",
      "#                                                                             #\n",
      "# Distributed under the GNU General Public License 3.0 (GPLv3 or later)       #\n",
      "#                                                                             #\n",
      "# Please cite when using this code:                                           #\n",
      "# V. Vovchenko, H. Stoecker, arXiv:1901.05249 [nucl-th]                       #\n",
      "#                                                                             #\n",
      "# The latest version is available at https://github.com/vlvovch/Thermal-FIST  #\n",
      "#                                                                             #\n",
      "###############################################################################\n",
      "\n"
     ]
    }
   ],
   "source": [
    "#include \"loadFISTlibs.h\""
   ]
  },
  {
   "cell_type": "code",
   "execution_count": 2,
   "metadata": {},
   "outputs": [],
   "source": [
    "using namespace std;"
   ]
  },
  {
   "cell_type": "code",
   "execution_count": 3,
   "metadata": {},
   "outputs": [],
   "source": [
    "using namespace thermalfist;"
   ]
  },
  {
   "cell_type": "code",
   "execution_count": 4,
   "metadata": {},
   "outputs": [],
   "source": [
    "#include \"AuxiliaryFunctions.h\""
   ]
  },
  {
   "cell_type": "markdown",
   "metadata": {},
   "source": [
    "Load the particle list and setup the thermal model"
   ]
  },
  {
   "cell_type": "code",
   "execution_count": 5,
   "metadata": {},
   "outputs": [],
   "source": [
    "ThermalParticleSystem parts(string(INPUT_FOLDER) + \"/list/PDG2014/list.dat\");\n",
    "\n",
    "ThermalModelIdeal model(&parts);"
   ]
  },
  {
   "cell_type": "markdown",
   "metadata": {},
   "source": [
    "Load the 0-10% Pb-Pb ALICE data to fit"
   ]
  },
  {
   "cell_type": "code",
   "execution_count": 6,
   "metadata": {},
   "outputs": [
    {
     "name": "stdout",
     "output_type": "stream",
     "text": [
      "The ALICE-2.76TeV-0-10 data to fit:\n",
      "            211         668.75 +- 47.5\n",
      "            321          99.75 +- 8.25\n",
      "            310            100 +- 8\n",
      "            333          12.75 +- 1.59\n",
      "           2212          30.75 +- 2.5\n",
      "           3122             24 +- 2.5\n",
      "           3312          3.335 +- 0.238\n",
      "           3334          0.595 +- 0.1\n",
      "\n"
     ]
    }
   ],
   "source": [
    "vector<FittedQuantity> dataPbPb010 = ThermalModelFit::loadExpDataFromFile(string(INPUT_FOLDER) + \"/data/ALICE/ALICE-PbPb2.76TeV-0-10-all-symmetrized.dat\");\n",
    "PrintData(dataPbPb010, \"ALICE-2.76TeV-0-10\");"
   ]
  },
  {
   "cell_type": "markdown",
   "metadata": {},
   "source": [
    "Initialize and run the fitter"
   ]
  },
  {
   "cell_type": "code",
   "execution_count": 7,
   "metadata": {},
   "outputs": [],
   "source": [
    "// Set chemical potentials to zero\n",
    "model.SetBaryonChemicalPotential(0.0);\n",
    "model.SetElectricChemicalPotential(0.0);\n",
    "model.SetStrangenessChemicalPotential(0.0);\n",
    "model.SetCharmChemicalPotential(0.0);\n",
    "model.FillChemicalPotentials();\n",
    "\n",
    "// Initialize the fitter\n",
    "ThermalModelFit fitter(&model);\n",
    "\n",
    "// Do not fit muB, it is zero at LHC\n",
    "fitter.SetParameterFitFlag(\"muB\", false);\n",
    "\n",
    "// Pass the data to the fitter\n",
    "fitter.SetQuantities(dataPbPb010);\n",
    "\n",
    "// Perform the fit\n",
    "ThermalModelFitParameters fitResult = fitter.PerformFit(false);"
   ]
  },
  {
   "cell_type": "markdown",
   "metadata": {},
   "source": [
    "Print the fitted parameters and the $\\chi^2$"
   ]
  },
  {
   "cell_type": "code",
   "execution_count": 8,
   "metadata": {},
   "outputs": [
    {
     "name": "stdout",
     "output_type": "stream",
     "text": [
      "Extracted parameters:\n",
      "        T [MeV] =          155.28 +- 2.78665\n",
      "         R [fm] =         10.3342 +- 0.545205\n",
      "       chi2/dof =         15.3832/6\n"
     ]
    }
   ],
   "source": [
    "cout << \"Extracted parameters:\" << endl;\n",
    "cout << setw(15) << \"T [MeV]\" << \" = \" << setw(15) << 1.e3 * fitResult.T.value << \" +- \" << 1.e3 * fitResult.T.error << endl;\n",
    "cout << setw(15) << \"R [fm]\" << \" = \" << setw(15) << fitResult.R.value << \" +- \" << fitResult.R.error << endl;\n",
    "cout << setw(15) << \"chi2/dof\" << \" = \" << setw(15) << fitResult.chi2 << \"/\" << fitResult.ndf << endl;"
   ]
  }
 ],
 "metadata": {
  "kernelspec": {
   "display_name": "C++14",
   "language": "C++14",
   "name": "xcpp14"
  },
  "language_info": {
   "codemirror_mode": "text/x-c++src",
   "file_extension": ".cpp",
   "mimetype": "text/x-c++src",
   "name": "c++",
   "version": "-std=c++14"
  }
 },
 "nbformat": 4,
 "nbformat_minor": 2
}
